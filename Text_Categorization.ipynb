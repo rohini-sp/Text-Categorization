{
 "cells": [
  {
   "cell_type": "markdown",
   "id": "1a9aa7df",
   "metadata": {},
   "source": [
    "## Text Categorization"
   ]
  },
  {
   "cell_type": "code",
   "execution_count": 1,
   "id": "d7fe30b7",
   "metadata": {},
   "outputs": [],
   "source": [
    "import pandas as pd\n",
    "from sklearn.model_selection import train_test_split\n",
    "from sklearn.feature_extraction.text import CountVectorizer\n",
    "from sklearn.naive_bayes import MultinomialNB\n",
    "from sklearn.metrics import accuracy_score,classification_report"
   ]
  },
  {
   "cell_type": "code",
   "execution_count": 2,
   "id": "710a0ab1",
   "metadata": {},
   "outputs": [],
   "source": [
    "#Load the CSV file\n",
    "df=pd.read_csv(r\"C:\\\\Users\\\\admin\\\\Desktop\\\\tycs 14\\\\IR TY14\\\\Dataset.csv\")\n",
    "data=df[\"covid\"]+\"\"+df[\"fever\"]\n",
    "X=data.astype(str)\t#Testdata\n",
    "y=df['flu']\t"
   ]
  },
  {
   "cell_type": "code",
   "execution_count": 3,
   "id": "c64fd7ab",
   "metadata": {},
   "outputs": [],
   "source": [
    "#Splitting the data into training and test data\n",
    "X_train,X_test,y_train,y_test=train_test_split(X,y,test_size=0.2,random_state=42)"
   ]
  },
  {
   "cell_type": "code",
   "execution_count": 4,
   "id": "21ed27fa",
   "metadata": {},
   "outputs": [],
   "source": [
    "# Converting data into bag-of-data format to train the model\n",
    "vectorizer=CountVectorizer()"
   ]
  },
  {
   "cell_type": "code",
   "execution_count": 5,
   "id": "1024e567",
   "metadata": {},
   "outputs": [],
   "source": [
    "#initializing the converter\n",
    "X_train_counts=vectorizer.fit_transform(X_train) # converting the training data\n",
    "X_test_counts=vectorizer.transform(X_test) # converting the test data"
   ]
  },
  {
   "cell_type": "code",
   "execution_count": 6,
   "id": "c60446bc",
   "metadata": {},
   "outputs": [
    {
     "data": {
      "text/html": [
       "<style>#sk-container-id-1 {color: black;}#sk-container-id-1 pre{padding: 0;}#sk-container-id-1 div.sk-toggleable {background-color: white;}#sk-container-id-1 label.sk-toggleable__label {cursor: pointer;display: block;width: 100%;margin-bottom: 0;padding: 0.3em;box-sizing: border-box;text-align: center;}#sk-container-id-1 label.sk-toggleable__label-arrow:before {content: \"▸\";float: left;margin-right: 0.25em;color: #696969;}#sk-container-id-1 label.sk-toggleable__label-arrow:hover:before {color: black;}#sk-container-id-1 div.sk-estimator:hover label.sk-toggleable__label-arrow:before {color: black;}#sk-container-id-1 div.sk-toggleable__content {max-height: 0;max-width: 0;overflow: hidden;text-align: left;background-color: #f0f8ff;}#sk-container-id-1 div.sk-toggleable__content pre {margin: 0.2em;color: black;border-radius: 0.25em;background-color: #f0f8ff;}#sk-container-id-1 input.sk-toggleable__control:checked~div.sk-toggleable__content {max-height: 200px;max-width: 100%;overflow: auto;}#sk-container-id-1 input.sk-toggleable__control:checked~label.sk-toggleable__label-arrow:before {content: \"▾\";}#sk-container-id-1 div.sk-estimator input.sk-toggleable__control:checked~label.sk-toggleable__label {background-color: #d4ebff;}#sk-container-id-1 div.sk-label input.sk-toggleable__control:checked~label.sk-toggleable__label {background-color: #d4ebff;}#sk-container-id-1 input.sk-hidden--visually {border: 0;clip: rect(1px 1px 1px 1px);clip: rect(1px, 1px, 1px, 1px);height: 1px;margin: -1px;overflow: hidden;padding: 0;position: absolute;width: 1px;}#sk-container-id-1 div.sk-estimator {font-family: monospace;background-color: #f0f8ff;border: 1px dotted black;border-radius: 0.25em;box-sizing: border-box;margin-bottom: 0.5em;}#sk-container-id-1 div.sk-estimator:hover {background-color: #d4ebff;}#sk-container-id-1 div.sk-parallel-item::after {content: \"\";width: 100%;border-bottom: 1px solid gray;flex-grow: 1;}#sk-container-id-1 div.sk-label:hover label.sk-toggleable__label {background-color: #d4ebff;}#sk-container-id-1 div.sk-serial::before {content: \"\";position: absolute;border-left: 1px solid gray;box-sizing: border-box;top: 0;bottom: 0;left: 50%;z-index: 0;}#sk-container-id-1 div.sk-serial {display: flex;flex-direction: column;align-items: center;background-color: white;padding-right: 0.2em;padding-left: 0.2em;position: relative;}#sk-container-id-1 div.sk-item {position: relative;z-index: 1;}#sk-container-id-1 div.sk-parallel {display: flex;align-items: stretch;justify-content: center;background-color: white;position: relative;}#sk-container-id-1 div.sk-item::before, #sk-container-id-1 div.sk-parallel-item::before {content: \"\";position: absolute;border-left: 1px solid gray;box-sizing: border-box;top: 0;bottom: 0;left: 50%;z-index: -1;}#sk-container-id-1 div.sk-parallel-item {display: flex;flex-direction: column;z-index: 1;position: relative;background-color: white;}#sk-container-id-1 div.sk-parallel-item:first-child::after {align-self: flex-end;width: 50%;}#sk-container-id-1 div.sk-parallel-item:last-child::after {align-self: flex-start;width: 50%;}#sk-container-id-1 div.sk-parallel-item:only-child::after {width: 0;}#sk-container-id-1 div.sk-dashed-wrapped {border: 1px dashed gray;margin: 0 0.4em 0.5em 0.4em;box-sizing: border-box;padding-bottom: 0.4em;background-color: white;}#sk-container-id-1 div.sk-label label {font-family: monospace;font-weight: bold;display: inline-block;line-height: 1.2em;}#sk-container-id-1 div.sk-label-container {text-align: center;}#sk-container-id-1 div.sk-container {/* jupyter's `normalize.less` sets `[hidden] { display: none; }` but bootstrap.min.css set `[hidden] { display: none !important; }` so we also need the `!important` here to be able to override the default hidden behavior on the sphinx rendered scikit-learn.org. See: https://github.com/scikit-learn/scikit-learn/issues/21755 */display: inline-block !important;position: relative;}#sk-container-id-1 div.sk-text-repr-fallback {display: none;}</style><div id=\"sk-container-id-1\" class=\"sk-top-container\"><div class=\"sk-text-repr-fallback\"><pre>MultinomialNB()</pre><b>In a Jupyter environment, please rerun this cell to show the HTML representation or trust the notebook. <br />On GitHub, the HTML representation is unable to render, please try loading this page with nbviewer.org.</b></div><div class=\"sk-container\" hidden><div class=\"sk-item\"><div class=\"sk-estimator sk-toggleable\"><input class=\"sk-toggleable__control sk-hidden--visually\" id=\"sk-estimator-id-1\" type=\"checkbox\" checked><label for=\"sk-estimator-id-1\" class=\"sk-toggleable__label sk-toggleable__label-arrow\">MultinomialNB</label><div class=\"sk-toggleable__content\"><pre>MultinomialNB()</pre></div></div></div></div></div>"
      ],
      "text/plain": [
       "MultinomialNB()"
      ]
     },
     "execution_count": 6,
     "metadata": {},
     "output_type": "execute_result"
    }
   ],
   "source": [
    "#using and training the multinomial model of naive bayes algorithm\n",
    "classifier=MultinomialNB()\n",
    "# initializing the classifier\n",
    "classifier.fit(X_train_counts,y_train)#training the classifier"
   ]
  },
  {
   "cell_type": "code",
   "execution_count": 7,
   "id": "42802d5e",
   "metadata": {},
   "outputs": [],
   "source": [
    "#loading another dataset to test if the modelis working properly\n",
    "data1 = pd.read_csv(r\"C:\\\\Users\\\\admin\\\\Desktop\\\\tycs 14\\\\IR TY14\\\\Test.csv\")\n",
    "new_data=data1[\"covid\"] +\"\"+data1[\"fever\"]\n",
    "new_data_counts=vectorizer.transform(new_data.astype(str))  \t# converting the new data"
   ]
  },
  {
   "cell_type": "code",
   "execution_count": 8,
   "id": "9d67b96b",
   "metadata": {},
   "outputs": [],
   "source": [
    "#making the model to predict the results for new dataset\n",
    "predictions =classifier.predict(new_data_counts)"
   ]
  },
  {
   "cell_type": "code",
   "execution_count": 9,
   "id": "687d113e",
   "metadata": {},
   "outputs": [
    {
     "name": "stdout",
     "output_type": "stream",
     "text": [
      "['yes' 'no' 'yes' 'no' 'no' 'yes' 'no' 'yes' 'no' 'no']\n"
     ]
    }
   ],
   "source": [
    "# Output the results\n",
    "new_data=predictions\n",
    "print(new_data)"
   ]
  },
  {
   "cell_type": "code",
   "execution_count": 10,
   "id": "b7beb8eb",
   "metadata": {},
   "outputs": [
    {
     "name": "stdout",
     "output_type": "stream",
     "text": [
      "\n",
      "Accuracy:1.00\n"
     ]
    }
   ],
   "source": [
    "#retrieving the accuracy and classification report\n",
    "accuracy=accuracy_score(y_test,classifier.predict(X_test_counts))\n",
    "print(f\"\\nAccuracy:{accuracy:.2f}\")"
   ]
  },
  {
   "cell_type": "code",
   "execution_count": 11,
   "id": "652fe5bb",
   "metadata": {},
   "outputs": [
    {
     "name": "stdout",
     "output_type": "stream",
     "text": [
      "ClassificationReport:\n",
      "              precision    recall  f1-score   support\n",
      "\n",
      "          no       1.00      1.00      1.00         2\n",
      "\n",
      "    accuracy                           1.00         2\n",
      "   macro avg       1.00      1.00      1.00         2\n",
      "weighted avg       1.00      1.00      1.00         2\n",
      "\n"
     ]
    }
   ],
   "source": [
    "print(\"ClassificationReport:\")\n",
    "print(classification_report(y_test,classifier.predict(X_test_counts)))"
   ]
  },
  {
   "cell_type": "code",
   "execution_count": 12,
   "id": "7a022dd2",
   "metadata": {},
   "outputs": [],
   "source": [
    "#ConvertthepredictionstoaDataFrame\n",
    "predictions_df=pd.DataFrame(predictions,columns=['flu_prediction'])\n",
    " \n",
    "#concatenate the original DataFrame with the predictions DataFrame\n",
    "data1=pd.concat([data1,predictions_df],axis= 1)"
   ]
  },
  {
   "cell_type": "code",
   "execution_count": 15,
   "id": "b1a57075",
   "metadata": {},
   "outputs": [],
   "source": [
    "# write the DataFrame  back to CSV\n",
    "data1.to_csv(r\"C:\\\\Users\\\\admin\\\\Desktop\\\\tycs 14\\\\IR TY14\\\\Test1.csv\",index=False)"
   ]
  },
  {
   "cell_type": "code",
   "execution_count": null,
   "id": "e3a1715b",
   "metadata": {},
   "outputs": [],
   "source": []
  }
 ],
 "metadata": {
  "kernelspec": {
   "display_name": "Python 3 (ipykernel)",
   "language": "python",
   "name": "python3"
  },
  "language_info": {
   "codemirror_mode": {
    "name": "ipython",
    "version": 3
   },
   "file_extension": ".py",
   "mimetype": "text/x-python",
   "name": "python",
   "nbconvert_exporter": "python",
   "pygments_lexer": "ipython3",
   "version": "3.10.6"
  }
 },
 "nbformat": 4,
 "nbformat_minor": 5
}
